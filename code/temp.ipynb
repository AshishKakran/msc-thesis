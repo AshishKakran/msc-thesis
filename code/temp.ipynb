{
 "cells": [
  {
   "cell_type": "code",
   "execution_count": 1,
   "id": "276bf4af",
   "metadata": {},
   "outputs": [],
   "source": [
    "import pandas as pd\n",
    "import talib\n"
   ]
  },
  {
   "cell_type": "code",
   "execution_count": 2,
   "id": "e2222861",
   "metadata": {},
   "outputs": [],
   "source": [
    "toy = pd.DataFrame({\n",
    "'id': [1,2,3,\n",
    "       1,2,3,\n",
    "       1,2,3],\n",
    "'date': ['2015-05-13', '2015-05-13', '2015-05-13', \n",
    "         '2016-02-12', '2016-02-12', '2016-02-12', \n",
    "         '2018-07-23', '2018-07-23', '2018-07-23'],\n",
    "'my_metric': [395, 634, 165, \n",
    "              144, 305, 293, \n",
    "              23, 395, 242]\n",
    "})"
   ]
  },
  {
   "cell_type": "code",
   "execution_count": 3,
   "id": "4e45796a",
   "metadata": {},
   "outputs": [],
   "source": [
    "toy.date = pd.to_datetime(toy.date)"
   ]
  },
  {
   "cell_type": "code",
   "execution_count": 14,
   "id": "93d48b59",
   "metadata": {},
   "outputs": [
    {
     "data": {
      "text/html": [
       "<div>\n",
       "<style scoped>\n",
       "    .dataframe tbody tr th:only-of-type {\n",
       "        vertical-align: middle;\n",
       "    }\n",
       "\n",
       "    .dataframe tbody tr th {\n",
       "        vertical-align: top;\n",
       "    }\n",
       "\n",
       "    .dataframe thead th {\n",
       "        text-align: right;\n",
       "    }\n",
       "</style>\n",
       "<table border=\"1\" class=\"dataframe\">\n",
       "  <thead>\n",
       "    <tr style=\"text-align: right;\">\n",
       "      <th></th>\n",
       "      <th></th>\n",
       "      <th>my_metric</th>\n",
       "    </tr>\n",
       "    <tr>\n",
       "      <th>id</th>\n",
       "      <th>date</th>\n",
       "      <th></th>\n",
       "    </tr>\n",
       "  </thead>\n",
       "  <tbody>\n",
       "    <tr>\n",
       "      <th rowspan=\"3\" valign=\"top\">1</th>\n",
       "      <th>2015-05-13</th>\n",
       "      <td>395</td>\n",
       "    </tr>\n",
       "    <tr>\n",
       "      <th>2016-02-12</th>\n",
       "      <td>144</td>\n",
       "    </tr>\n",
       "    <tr>\n",
       "      <th>2018-07-23</th>\n",
       "      <td>23</td>\n",
       "    </tr>\n",
       "    <tr>\n",
       "      <th rowspan=\"3\" valign=\"top\">2</th>\n",
       "      <th>2015-05-13</th>\n",
       "      <td>634</td>\n",
       "    </tr>\n",
       "    <tr>\n",
       "      <th>2016-02-12</th>\n",
       "      <td>305</td>\n",
       "    </tr>\n",
       "    <tr>\n",
       "      <th>2018-07-23</th>\n",
       "      <td>395</td>\n",
       "    </tr>\n",
       "    <tr>\n",
       "      <th rowspan=\"3\" valign=\"top\">3</th>\n",
       "      <th>2015-05-13</th>\n",
       "      <td>165</td>\n",
       "    </tr>\n",
       "    <tr>\n",
       "      <th>2016-02-12</th>\n",
       "      <td>293</td>\n",
       "    </tr>\n",
       "    <tr>\n",
       "      <th>2018-07-23</th>\n",
       "      <td>242</td>\n",
       "    </tr>\n",
       "  </tbody>\n",
       "</table>\n",
       "</div>"
      ],
      "text/plain": [
       "               my_metric\n",
       "id date                 \n",
       "1  2015-05-13        395\n",
       "   2016-02-12        144\n",
       "   2018-07-23         23\n",
       "2  2015-05-13        634\n",
       "   2016-02-12        305\n",
       "   2018-07-23        395\n",
       "3  2015-05-13        165\n",
       "   2016-02-12        293\n",
       "   2018-07-23        242"
      ]
     },
     "execution_count": 14,
     "metadata": {},
     "output_type": "execute_result"
    }
   ],
   "source": [
    "f = toy.set_index(['id', 'date']).sort_index()\n",
    "f"
   ]
  },
  {
   "cell_type": "code",
   "execution_count": 55,
   "id": "e7ec8f31",
   "metadata": {},
   "outputs": [
    {
     "data": {
      "text/plain": [
       "id  id  date      \n",
       "1   1   2015-05-13      NaN\n",
       "        2016-02-12    269.5\n",
       "        2018-07-23     83.5\n",
       "2   2   2015-05-13      NaN\n",
       "        2016-02-12    469.5\n",
       "        2018-07-23    350.0\n",
       "3   3   2015-05-13      NaN\n",
       "        2016-02-12    229.0\n",
       "        2018-07-23    267.5\n",
       "Name: my_metric, dtype: float64"
      ]
     },
     "execution_count": 55,
     "metadata": {},
     "output_type": "execute_result"
    }
   ],
   "source": [
    "f.groupby(level='id', group_keys=True).rolling(2)['my_metric'].mean()"
   ]
  },
  {
   "cell_type": "code",
   "execution_count": 60,
   "id": "bda96502",
   "metadata": {},
   "outputs": [
    {
     "data": {
      "text/plain": [
       "id  date      \n",
       "1   2015-05-13      NaN\n",
       "    2016-02-12    269.5\n",
       "    2018-07-23     83.5\n",
       "2   2015-05-13      NaN\n",
       "    2016-02-12    469.5\n",
       "    2018-07-23    350.0\n",
       "3   2015-05-13      NaN\n",
       "    2016-02-12    229.0\n",
       "    2018-07-23    267.5\n",
       "Name: my_metric, dtype: float64"
      ]
     },
     "execution_count": 60,
     "metadata": {},
     "output_type": "execute_result"
    }
   ],
   "source": [
    "f.groupby('id').my_metric.transform(lambda x: x.rolling(2).mean())"
   ]
  },
  {
   "cell_type": "code",
   "execution_count": 61,
   "id": "5af86407",
   "metadata": {},
   "outputs": [
    {
     "data": {
      "text/plain": [
       "id  date      \n",
       "1   2015-05-13      NaN\n",
       "    2016-02-12    269.5\n",
       "    2018-07-23     83.5\n",
       "2   2015-05-13      NaN\n",
       "    2016-02-12    469.5\n",
       "    2018-07-23    350.0\n",
       "3   2015-05-13      NaN\n",
       "    2016-02-12    229.0\n",
       "    2018-07-23    267.5\n",
       "Name: my_metric, dtype: float64"
      ]
     },
     "execution_count": 61,
     "metadata": {},
     "output_type": "execute_result"
    }
   ],
   "source": [
    "f.groupby('id').my_metric.transform(lambda x: talib.SMA(x, 2))"
   ]
  },
  {
   "cell_type": "code",
   "execution_count": null,
   "id": "0d89cc0a",
   "metadata": {},
   "outputs": [],
   "source": []
  }
 ],
 "metadata": {
  "kernelspec": {
   "display_name": "Python 3 (ipykernel)",
   "language": "python",
   "name": "python3"
  },
  "language_info": {
   "codemirror_mode": {
    "name": "ipython",
    "version": 3
   },
   "file_extension": ".py",
   "mimetype": "text/x-python",
   "name": "python",
   "nbconvert_exporter": "python",
   "pygments_lexer": "ipython3",
   "version": "3.10.10"
  }
 },
 "nbformat": 4,
 "nbformat_minor": 5
}
