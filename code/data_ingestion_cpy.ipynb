{
 "cells": [
  {
   "cell_type": "code",
   "execution_count": 2,
   "id": "c713db63",
   "metadata": {},
   "outputs": [],
   "source": [
    "import pandas as pd\n",
    "from pathlib import Path\n",
    "import yfinance as yf"
   ]
  },
  {
   "cell_type": "code",
   "execution_count": 16,
   "id": "ba6ee01f",
   "metadata": {},
   "outputs": [],
   "source": [
    "def load_data(ticker, batch=\"train\"):\n",
    "    \n",
    "    store = \"assets.h5\"\n",
    "    \n",
    "    if batch == \"train\":\n",
    "        data_path = 'yfinance/prices/{}/{}'.format(batch, ticker.lower())\n",
    "        df = yf.download(ticker, start=\"2010-01-01\", end=\"2019-12-31\")\n",
    "    elif batch == \"test\":\n",
    "        data_path = 'yfinance/prices/{}/{}'.format(batch, ticker.lower())\n",
    "        df = yf.download(ticker, start=\"2020-01-01\", end=\"2022-12-31\")\n",
    "        \n",
    "    with pd.HDFStore(store) as f:\n",
    "        f.put(data_path, df)\n",
    "        "
   ]
  },
  {
   "cell_type": "code",
   "execution_count": 17,
   "id": "89ae9ba1",
   "metadata": {},
   "outputs": [
    {
     "name": "stdout",
     "output_type": "stream",
     "text": [
      "[*********************100%***********************]  1 of 1 completed\n"
     ]
    }
   ],
   "source": [
    "load_data(\"MSFT\", batch=\"train\")"
   ]
  },
  {
   "cell_type": "code",
   "execution_count": 18,
   "id": "732181a2",
   "metadata": {},
   "outputs": [
    {
     "name": "stdout",
     "output_type": "stream",
     "text": [
      "[*********************100%***********************]  1 of 1 completed\n"
     ]
    }
   ],
   "source": [
    "load_data(\"MSFT\", batch=\"test\")"
   ]
  },
  {
   "cell_type": "code",
   "execution_count": null,
   "id": "52b15ce4",
   "metadata": {},
   "outputs": [],
   "source": []
  }
 ],
 "metadata": {
  "kernelspec": {
   "display_name": "Python 3 (ipykernel)",
   "language": "python",
   "name": "python3"
  },
  "language_info": {
   "codemirror_mode": {
    "name": "ipython",
    "version": 3
   },
   "file_extension": ".py",
   "mimetype": "text/x-python",
   "name": "python",
   "nbconvert_exporter": "python",
   "pygments_lexer": "ipython3",
   "version": "3.10.10"
  }
 },
 "nbformat": 4,
 "nbformat_minor": 5
}
