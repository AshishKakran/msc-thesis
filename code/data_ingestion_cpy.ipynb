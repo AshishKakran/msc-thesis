{
 "cells": [
  {
   "cell_type": "code",
   "execution_count": 12,
   "id": "c713db63",
   "metadata": {},
   "outputs": [],
   "source": [
    "import pandas as pd\n",
    "from pathlib import Path\n",
    "import yfinance as yf\n",
    "import numpy as np"
   ]
  },
  {
   "cell_type": "code",
   "execution_count": 79,
   "id": "ba6ee01f",
   "metadata": {},
   "outputs": [],
   "source": [
    "def load_equities_prices(ticker, batch=\"train\"):\n",
    "    \n",
    "    store = Path(\"../data/assets.h5\")\n",
    "    \n",
    "    if batch == \"train\":\n",
    "        data_path = 'yfinance/prices/{}/{}'.format(batch, ticker.lower())\n",
    "        df = yf.download(ticker, start=\"2010-01-01\", end=\"2019-12-31\")\n",
    "    elif batch == \"test\":\n",
    "        data_path = 'yfinance/prices/{}/{}'.format(batch, ticker.lower())\n",
    "        df = yf.download(ticker, start=\"2020-01-01\", end=\"2022-12-31\")\n",
    "        \n",
    "    with pd.HDFStore(store) as f:\n",
    "        f.put(data_path, df)\n",
    "        "
   ]
  },
  {
   "cell_type": "code",
   "execution_count": 80,
   "id": "52b15ce4",
   "metadata": {},
   "outputs": [],
   "source": [
    "tickers = ['AAPL', 'MSFT', 'NKE', 'DIS', 'AAL', 'ZG', 'VTI' ]"
   ]
  },
  {
   "cell_type": "code",
   "execution_count": 81,
   "id": "49af9bd7",
   "metadata": {},
   "outputs": [
    {
     "name": "stdout",
     "output_type": "stream",
     "text": [
      "[*********************100%***********************]  1 of 1 completed\n",
      "[*********************100%***********************]  1 of 1 completed\n",
      "[*********************100%***********************]  1 of 1 completed\n",
      "[*********************100%***********************]  1 of 1 completed\n",
      "[*********************100%***********************]  1 of 1 completed\n",
      "[*********************100%***********************]  1 of 1 completed\n",
      "[*********************100%***********************]  1 of 1 completed\n",
      "[*********************100%***********************]  1 of 1 completed\n",
      "[*********************100%***********************]  1 of 1 completed\n",
      "[*********************100%***********************]  1 of 1 completed\n",
      "[*********************100%***********************]  1 of 1 completed\n",
      "[*********************100%***********************]  1 of 1 completed\n",
      "[*********************100%***********************]  1 of 1 completed\n",
      "[*********************100%***********************]  1 of 1 completed\n"
     ]
    }
   ],
   "source": [
    "for ticker in tickers:\n",
    "    load_equities_prices(ticker, batch=\"train\")\n",
    "    load_equities_prices(ticker, batch=\"test\")"
   ]
  },
  {
   "cell_type": "markdown",
   "id": "9573fa8e",
   "metadata": {},
   "source": [
    "## Metadata on US traded companies\n",
    "\n",
    "[Market activity](https://www.nasdaq.com/market-activity/stocks/screener)"
   ]
  },
  {
   "cell_type": "code",
   "execution_count": 82,
   "id": "805b156c",
   "metadata": {},
   "outputs": [],
   "source": [
    "def load_equities_meta(tickers):\n",
    "    df = pd.read_csv('../data/meta_stocks_nasdaq.csv')\n",
    "    df = df.rename(columns= str.lower).set_index('symbol')\n",
    "    df = df.rename(columns={'market cap': 'marketcap'})\n",
    "    df = df[~df.index.duplicated()]\n",
    "    \n",
    "    df.index.name = 'ticker'\n",
    "    \n",
    "    with pd.HDFStore(Path('../data/assets.h5')) as f:\n",
    "        f.put('us_equities/stocks',(df[['marketcap', 'sector', 'industry']]).loc[tickers[:-1]])\n",
    "    \n",
    "    "
   ]
  },
  {
   "cell_type": "code",
   "execution_count": 83,
   "id": "bda7a242",
   "metadata": {},
   "outputs": [],
   "source": [
    "load_equities_meta(tickers)"
   ]
  }
 ],
 "metadata": {
  "kernelspec": {
   "display_name": "Python 3 (ipykernel)",
   "language": "python",
   "name": "python3"
  },
  "language_info": {
   "codemirror_mode": {
    "name": "ipython",
    "version": 3
   },
   "file_extension": ".py",
   "mimetype": "text/x-python",
   "name": "python",
   "nbconvert_exporter": "python",
   "pygments_lexer": "ipython3",
   "version": "3.10.10"
  }
 },
 "nbformat": 4,
 "nbformat_minor": 5
}
