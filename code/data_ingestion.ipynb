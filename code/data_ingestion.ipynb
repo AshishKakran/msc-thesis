{
 "cells": [
  {
   "cell_type": "code",
   "execution_count": 3,
   "id": "c713db63",
   "metadata": {},
   "outputs": [],
   "source": [
    "import pandas as pd\n",
    "from pathlib import Path\n"
   ]
  },
  {
   "cell_type": "code",
   "execution_count": 7,
   "id": "d5c26330",
   "metadata": {},
   "outputs": [],
   "source": [
    "class DataLoader:\n",
    "    \n",
    "    def __init__(self, store='assets.h5'):\n",
    "        self.store = Path(store)\n",
    "        \n",
    "    def ingest_csv(self,ticker, data_type='prices', source='yfinance'):\n",
    "        '''\n",
    "        Ingests csv data from {ticker}.csv to HDF file self.store\n",
    "        '''\n",
    "    \n",
    "        data_path = '{}/{}/{}'.format(source,data_type,ticker.lower())\n",
    "    \n",
    "        try:\n",
    "            pd.read_csv('../data/{}.csv'.format(ticker))\n",
    "        except FileNotFoundError:\n",
    "            print(\"Error ingesting data, source for {} doesn't exist\".format(ticker))\n",
    "            return None\n",
    "    \n",
    "        if source == 'yfinance':\n",
    "            frame = pd.read_csv('../data/{}.csv'.format(ticker), index_col='Date', parse_dates=['Date'])\n",
    "            with pd.HDFStore(self.store) as f:\n",
    "                f.put(data_path, frame)\n",
    "            print(\"data has been stored at {} under {}\".format(self.store,data_path))\n",
    "        \n"
   ]
  },
  {
   "cell_type": "code",
   "execution_count": 8,
   "id": "35065805",
   "metadata": {},
   "outputs": [],
   "source": [
    "ld = DataLoader()"
   ]
  },
  {
   "cell_type": "code",
   "execution_count": 9,
   "id": "e20e663a",
   "metadata": {},
   "outputs": [
    {
     "name": "stdout",
     "output_type": "stream",
     "text": [
      "data has been stored at assets.h5 under yfinance/prices/msft\n"
     ]
    }
   ],
   "source": [
    "ld.ingest_csv('MSFT')"
   ]
  },
  {
   "cell_type": "code",
   "execution_count": null,
   "id": "23ba7d06",
   "metadata": {},
   "outputs": [],
   "source": []
  }
 ],
 "metadata": {
  "kernelspec": {
   "display_name": "Python 3 (ipykernel)",
   "language": "python",
   "name": "python3"
  },
  "language_info": {
   "codemirror_mode": {
    "name": "ipython",
    "version": 3
   },
   "file_extension": ".py",
   "mimetype": "text/x-python",
   "name": "python",
   "nbconvert_exporter": "python",
   "pygments_lexer": "ipython3",
   "version": "3.10.10"
  }
 },
 "nbformat": 4,
 "nbformat_minor": 5
}
